{
 "cells": [
  {
   "cell_type": "markdown",
   "metadata": {},
   "source": [
    "# Confidential Data"
   ]
  },
  {
   "cell_type": "code",
   "execution_count": 1,
   "metadata": {},
   "outputs": [],
   "source": [
    "# This file contains credentials for the Twilio account and Telegram bot and Channel.",
    "\n",
    "\n",
    "# Twilio:\n",
    "SID = 'XXXXXXXXXXXXXXXXXXXXXXXXXXXXXXXXXX'\n",
    "AUTH_TOKEN = 'XXXXXXXXXXXXXXXXXXXXXXXXXXXXXXXX'\n",
    "FROM_NUMBER = XXXXXXXXXXXX\n",
    "TO_NUMBER = XXXXXXXXXXXXX\n",
    "\n",
    "# Telegram:\n",
    "telegram_chat_id = \"-XXXXXXXXXXXXX\"   # Make sure to include the minus sign at the start \n",
    "telegram_bot_id = \"XXXXXXXXXXXXXXXXXXXXXXXXXXXXXXXXXXXXXXXXXXXXXX\""
   ]
  },
  {
   "cell_type": "code",
   "execution_count": null,
   "metadata": {},
   "outputs": [],
   "source": []
  }
 ],
 "metadata": {
  "kernelspec": {
   "display_name": "Python 3",
   "language": "python",
   "name": "python3"
  },
  "language_info": {
   "codemirror_mode": {
    "name": "ipython",
    "version": 3
   },
   "file_extension": ".py",
   "mimetype": "text/x-python",
   "name": "python",
   "nbconvert_exporter": "python",
   "pygments_lexer": "ipython3",
   "version": "3.8.3"
  }
 },
 "nbformat": 4,
 "nbformat_minor": 4
}
