{
 "cells": [
  {
   "cell_type": "markdown",
   "metadata": {},
   "source": [
    "# Confidential Data"
   ]
  },
  {
   "cell_type": "code",
   "execution_count": 1,
   "metadata": {},
   "outputs": [],
   "source": [
    "# Bolt:\n",
    "API_KEY = '4ba81c11-812f-4b63-b89c-60df354be072'\n",
    "DEVICE_ID = 'BOLT290242'\n",
    "\n",
    "# Twilio:\n",
    "SID = 'AC537203097cc020a8426e208a49037f7c'\n",
    "AUTH_TOKEN = '6efb1267de23dca1b294c8d77d2db865'\n",
    "FROM_NUMBER = +13372522495\n",
    "TO_NUMBER = +919407852240\n",
    "\n",
    "# Telegram:\n",
    "telegram_chat_id = \"-1001226502969\"\n",
    "telegram_bot_id = \"1203476114:AAHWlbL4esJ0ZH2Xr2Jxd-EIhP3wtppOoIk\""
   ]
  },
  {
   "cell_type": "code",
   "execution_count": null,
   "metadata": {},
   "outputs": [],
   "source": []
  }
 ],
 "metadata": {
  "kernelspec": {
   "display_name": "Python 3",
   "language": "python",
   "name": "python3"
  },
  "language_info": {
   "codemirror_mode": {
    "name": "ipython",
    "version": 3
   },
   "file_extension": ".py",
   "mimetype": "text/x-python",
   "name": "python",
   "nbconvert_exporter": "python",
   "pygments_lexer": "ipython3",
   "version": "3.8.3"
  }
 },
 "nbformat": 4,
 "nbformat_minor": 4
}
